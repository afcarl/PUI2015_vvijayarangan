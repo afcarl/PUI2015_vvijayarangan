{
 "cells": [
  {
   "cell_type": "markdown",
   "metadata": {},
   "source": [
    "# Homework 8\n",
    "This code generates a time series visualisation of the number of citibike trip per day by average temperature of that day for October, 2015. \n",
    "\n",
    "### Data \n",
    "\n",
    "+ Temperature data - http://www.accuweather.com/en/us/new-york-ny/10007/november-weather/349727?monyr=11/1/2015&view=table\n",
    "+ Citibike data for Oct 2015 - https://www.citibikenyc.com/system-data"
   ]
  },
  {
   "cell_type": "code",
   "execution_count": 1,
   "metadata": {
    "collapsed": false
   },
   "outputs": [
    {
     "name": "stdout",
     "output_type": "stream",
     "text": [
      "Populating the interactive namespace from numpy and matplotlib\n"
     ]
    }
   ],
   "source": [
    "import numpy as np\n",
    "import pandas as pd\n",
    "import pylab as pl\n",
    "import os\n",
    "import re\n",
    "import datetime\n",
    "\n",
    "%pylab inline\n",
    "\n",
    "pl.style.use('ggplot')"
   ]
  },
  {
   "cell_type": "code",
   "execution_count": 2,
   "metadata": {
    "collapsed": false
   },
   "outputs": [],
   "source": [
    "citibike_oct = pd.read_csv(\"../../datasets/201510-citibike-tripdata.csv\")\n",
    "temp_oct = pd.read_csv(\"../../datasets/Oct_2015_NYC_Temperature.csv\")"
   ]
  },
  {
   "cell_type": "code",
   "execution_count": 3,
   "metadata": {
    "collapsed": true
   },
   "outputs": [],
   "source": [
    "temp_oct['High'] = temp_oct['High'].astype(int64)\n",
    "temp_oct['Low'] = temp_oct['Low'].astype(int64)\n"
   ]
  },
  {
   "cell_type": "code",
   "execution_count": 8,
   "metadata": {
    "collapsed": false
   },
   "outputs": [],
   "source": [
    "citibike_oct['starttime'] = pd.to_datetime(citibike_oct['starttime'])"
   ]
  },
  {
   "cell_type": "code",
   "execution_count": null,
   "metadata": {
    "collapsed": false
   },
   "outputs": [],
   "source": [
    "fig = pl.figure(figsize = (16,16))\n",
    "days = pd.date_range('10/01/2010', periods = 31, freq = 'D')\n",
    "\n",
    "pl.plot(days, temp_oct['Low'], label = \"Temperature\")\n",
    "pl.ylim([0,65])\n",
    "pl.xlabel('Weeks', fontsize = 16);\n",
    "pl.ylabel('Temperature (in Farenheit)', fontsize = 16);\n",
    "pl.legend()\n",
    "pl.title('Comparison of temperature vs citibike usage', fontsize = 32)\n",
    "savefig('HW8.png')"
   ]
  },
  {
   "cell_type": "code",
   "execution_count": null,
   "metadata": {
    "collapsed": false
   },
   "outputs": [],
   "source": [
    "#citibike_oct['starttime'] = citibike_oct['starttime'].str.replace(r'..:..:..','')\n",
    "#= pd.to_datetime(citibike_oct['starttime'])\n",
    "#citibike_oct['starttime'].head()"
   ]
  },
  {
   "cell_type": "code",
   "execution_count": null,
   "metadata": {
    "collapsed": false
   },
   "outputs": [],
   "source": [
    "#datetime.datetime.strptime(citibike_jun['starttime'][0],'%m/%d/%Y %H:%M')"
   ]
  },
  {
   "cell_type": "code",
   "execution_count": null,
   "metadata": {
    "collapsed": false
   },
   "outputs": [],
   "source": [
    "for day in list(citibike_oct['starttime']):\n",
    "    print \n",
    "    #day #datetime.datetime.strptime(day,'%m/%d/%Y %H:%M')"
   ]
  },
  {
   "cell_type": "code",
   "execution_count": null,
   "metadata": {
    "collapsed": true
   },
   "outputs": [],
   "source": []
  },
  {
   "cell_type": "code",
   "execution_count": null,
   "metadata": {
    "collapsed": false
   },
   "outputs": [],
   "source": [
    "re.sub(citibike_oct[:2])"
   ]
  },
  {
   "cell_type": "code",
   "execution_count": null,
   "metadata": {
    "collapsed": false
   },
   "outputs": [],
   "source": []
  },
  {
   "cell_type": "code",
   "execution_count": null,
   "metadata": {
    "collapsed": false
   },
   "outputs": [],
   "source": []
  },
  {
   "cell_type": "code",
   "execution_count": null,
   "metadata": {
    "collapsed": true
   },
   "outputs": [],
   "source": []
  }
 ],
 "metadata": {
  "kernelspec": {
   "display_name": "Python 2",
   "language": "python",
   "name": "python2"
  },
  "language_info": {
   "codemirror_mode": {
    "name": "ipython",
    "version": 2
   },
   "file_extension": ".py",
   "mimetype": "text/x-python",
   "name": "python",
   "nbconvert_exporter": "python",
   "pygments_lexer": "ipython2",
   "version": "2.7.10"
  }
 },
 "nbformat": 4,
 "nbformat_minor": 0
}
