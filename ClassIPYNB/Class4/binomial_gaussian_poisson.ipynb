{
 "cells": [
  {
   "cell_type": "code",
   "execution_count": 1,
   "metadata": {
    "collapsed": false
   },
   "outputs": [
    {
     "name": "stdout",
     "output_type": "stream",
     "text": [
      "Populating the interactive namespace from numpy and matplotlib\n"
     ]
    }
   ],
   "source": [
    "import pylab as pl\n",
    "import numpy as np\n",
    "from scipy import stats\n",
    "%pylab inline"
   ]
  },
  {
   "cell_type": "markdown",
   "metadata": {},
   "source": [
    "Binomial"
   ]
  },
  {
   "cell_type": "code",
   "execution_count": 2,
   "metadata": {
    "collapsed": false
   },
   "outputs": [],
   "source": [
    "def plot_and_print(dist):\n",
    "    pl.hist(dist,bins=100)\n",
    "    n, min_max, mean, var, skew, kurt = stats.describe(dist)\n",
    "    print(\"Number of elements: {0:d}\".format(n))\n",
    "    print(\"Minimum: {0:8.6f} Maximum: {1:8.6f}\".format(min_max[0], min_max[1]))\n",
    "    print(\"Mean: {0:8.6f}\".format(mean))\n",
    "    print(\"Variance: {0:8.6f}\".format(var))\n",
    "    print(\"Skew : {0:8.6f}\".format(skew))\n",
    "    print(\"Kurtosis: {0:8.6f}\".format(kurt))\n"
   ]
  },
  {
   "cell_type": "code",
   "execution_count": 21,
   "metadata": {
    "collapsed": false
   },
   "outputs": [],
   "source": [
    "def mybinomial(n, p):\n",
    "    bindist=np.random.binomial(n, p, 1000)\n",
    "    plot_and_print(bindist)\n",
    "\n",
    "def mypoisson(l):\n",
    "    pdist=np.random.poisson(l,  1000)\n",
    "    plot_and_print(pdist)\n",
    "    \n",
    "def mygaussian(mu,s):\n",
    "    pdist=(np.random.randn(1000)* s) + mu\n",
    "    plot_and_print(pdist)"
   ]
  },
  {
   "cell_type": "code",
   "execution_count": null,
   "metadata": {
    "collapsed": false
   },
   "outputs": [],
   "source": []
  },
  {
   "cell_type": "code",
   "execution_count": 15,
   "metadata": {
    "collapsed": false
   },
   "outputs": [
    {
     "name": "stdout",
     "output_type": "stream",
     "text": [
      "Number of elements: 1000\n",
      "Minimum: 34.000000 Maximum: 65.000000\n",
      "Mean: 49.919000\n",
      "Variance: 24.146586\n",
      "Skew : -0.136607\n",
      "Kurtosis: 0.088194\n"
     ]
    },
    {
     "data": {
      "image/png": "[encoded data removed]",
      "text/plain": [
       "<matplotlib.figure.Figure at 0x10df1f590>"
      ]
     },
     "metadata": {},
     "output_type": "display_data"
    }
   ],
   "source": [
    "mybinomial(100,0.5)"
   ]
  },
  {
   "cell_type": "code",
   "execution_count": 18,
   "metadata": {
    "collapsed": false
   },
   "outputs": [
    {
     "name": "stdout",
     "output_type": "stream",
     "text": [
      "Number of elements: 1000\n",
      "Minimum: 63.000000 Maximum: 137.000000\n",
      "Mean: 100.025000\n",
      "Variance: 100.298674\n",
      "Skew : 0.058223\n",
      "Kurtosis: 0.142166\n"
     ]
    },
    {
     "data": {
      "image/png": "[encoded data removed]",
      "text/plain": [
       "<matplotlib.figure.Figure at 0x10e072290>"
      ]
     },
     "metadata": {},
     "output_type": "display_data"
    }
   ],
   "source": [
    "mypoisson(100)"
   ]
  },
  {
   "cell_type": "code",
   "execution_count": 22,
   "metadata": {
    "collapsed": false
   },
   "outputs": [
    {
     "name": "stdout",
     "output_type": "stream",
     "text": [
      "Number of elements: 1000\n",
      "Minimum: 13.565045 Maximum: 195.189995\n",
      "Mean: 100.937829\n",
      "Variance: 903.694405\n",
      "Skew : 0.068763\n",
      "Kurtosis: -0.030335\n"
     ]
    },
    {
     "data": {
      "image/png": "[encoded data removed]",
      "text/plain": [
       "<matplotlib.figure.Figure at 0x10d814850>"
      ]
     },
     "metadata": {},
     "output_type": "display_data"
    }
   ],
   "source": [
    "mygaussian(100,30)"
   ]
  },
  {
   "cell_type": "code",
   "execution_count": null,
   "metadata": {
    "collapsed": true
   },
   "outputs": [],
   "source": []
  }
 ],
 "metadata": {
  "kernelspec": {
   "display_name": "Python 2",
   "language": "python",
   "name": "python2"
  },
  "language_info": {
   "codemirror_mode": {
    "name": "ipython",
    "version": 2
   },
   "file_extension": ".py",
   "mimetype": "text/x-python",
   "name": "python",
   "nbconvert_exporter": "python",
   "pygments_lexer": "ipython2",
   "version": "2.7.3"
  }
 },
 "nbformat": 4,
 "nbformat_minor": 0
}
